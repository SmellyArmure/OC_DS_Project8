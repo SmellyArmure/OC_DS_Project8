{
 "cells": [
  {
   "cell_type": "code",
   "execution_count": null,
   "id": "variable-cylinder",
   "metadata": {},
   "outputs": [],
   "source": [
    "import findspark\n",
    "findspark.init()\n",
    "import os\n",
    "os.environ['PYSPARK_SUBMIT_ARGS'] = '--packages com.amazonaws:aws-java-sdk-pom:1.10.34,org.apache.hadoop:hadoop-aws:2.7.2,databricks:spark-deep-learning:1.5.0-spark2.4-s_2.11 pyspark-shell'\n",
    "\n",
    "path_cred = os.path.join(os.getcwd(),\n",
    "            \"AWS/AWS_IAM_CREDENTIAL/Maryse_P8_credentials.csv\")\n",
    "with open(path_cred,'r') as f:\n",
    "        msg = f.read()     \n",
    "ID = str(msg).split('\\n')[1].split(',')[2]\n",
    "KEY = str(msg).split('\\n')[1].split(',')[3]\n",
    "os.environ[\"AWS_ACCESS_KEY_ID\"]=ID\n",
    "os.environ[\"AWS_SECRET_ACCESS_KEY\"]=KEY\n",
    "\n",
    "from pyspark import SparkContext, SparkConf\n",
    "sc = SparkContext.getOrCreate()\n",
    "from pyspark.sql import SparkSession\n",
    "spark = SparkSession.builder.appName('FeatExtr').getOrCreate()\n",
    "\n",
    "import sparkdl\n",
    "from pyspark.ml.image import ImageSchema\n",
    "PREFIX = 'SAMPLE'\n",
    "bucket='ocfruitpictures'\n",
    "data_path = 's3a://{}/{}'.format(bucket, PREFIX)\n",
    "images_df = ImageSchema.readImages(data_path,\n",
    "                                   recursive=True)\n",
    "\n",
    "from sparkdl import DeepImageFeaturizer\n",
    "feat = DeepImageFeaturizer(inputCol=\"image\",\n",
    "                           outputCol=\"image_features\",\n",
    "                           modelName=\"ResNet50\")\n",
    "\n",
    "from pyspark.ml import Pipeline\n",
    "pipe = Pipeline(stages=[feat])\n",
    "extractor = pipe.fit(images_df)\n",
    "ext_features_df = extractor.transform(images_df)\n",
    "\n",
    "from pyspark.ml.feature import PCA\n",
    "pca = PCA(k=8,\n",
    "          inputCol=\"image_features\",\n",
    "          outputCol=\"pca_features\")\n",
    "model = pca.fit(ext_features_df.select('image_features'))\n",
    "pca_feat_df = model.transform(ext_features_df)\n",
    "\n",
    "import pyspark.sql.functions as pspfunc\n",
    "orig_col = pca_feat_df['image']['origin']\n",
    "split_col = pspfunc.split(orig_col, PREFIX+'/')\n",
    "df_ = pca_feat_df.withColumn('labels', split_col.getItem(1))\n",
    "split_col = pspfunc.split(df_['labels'], '/')\n",
    "df_ = df_.withColumn('labels', split_col.getItem(0))\n",
    "df_ = df_.withColumnRenamed(\"image\", \"path\")\n",
    "\n",
    "results_df = df_.select('path','pca_features','labels')\n",
    "results_df.write.mode('overwrite').parquet(\"s3://ocfruitpictures/RESULTS_short\")"
   ]
  }
 ],
 "metadata": {
  "kernelspec": {
   "display_name": "p8_venv",
   "language": "python",
   "name": "p8_venv"
  },
  "language_info": {
   "codemirror_mode": {
    "name": "ipython",
    "version": 3
   },
   "file_extension": ".py",
   "mimetype": "text/x-python",
   "name": "python",
   "nbconvert_exporter": "python",
   "pygments_lexer": "ipython3",
   "version": "3.7.10"
  }
 },
 "nbformat": 4,
 "nbformat_minor": 5
}
