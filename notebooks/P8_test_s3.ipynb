{
 "cells": [
  {
   "cell_type": "code",
   "execution_count": 1,
   "id": "varying-laugh",
   "metadata": {},
   "outputs": [],
   "source": [
    "import os\n",
    "# for jupyter to find spark...\n",
    "import findspark\n",
    "findspark.init()"
   ]
  },
  {
   "cell_type": "code",
   "execution_count": 2,
   "id": "noble-solomon",
   "metadata": {},
   "outputs": [],
   "source": [
    "from pyspark import SparkContext"
   ]
  },
  {
   "cell_type": "code",
   "execution_count": 3,
   "id": "focal-links",
   "metadata": {},
   "outputs": [],
   "source": [
    "# packages allowing to get s3 files from the notebook\n",
    "# NB : pyspark-shell at the end mandatory for a notebook\n",
    "# -> remove in a script !\n",
    "os.environ['PYSPARK_SUBMIT_ARGS'] = '--packages com.amazonaws:aws-java-sdk-pom:1.10.34,org.apache.hadoop:hadoop-aws:2.7.2 pyspark-shell' # "
   ]
  },
  {
   "cell_type": "code",
   "execution_count": 4,
   "id": "demonstrated-interaction",
   "metadata": {},
   "outputs": [],
   "source": [
    "from pyspark import SparkContext, SparkConf\n",
    "from pyspark.sql import SparkSession"
   ]
  },
  {
   "cell_type": "code",
   "execution_count": 5,
   "id": "divided-abraham",
   "metadata": {},
   "outputs": [],
   "source": [
    "# get id and secret key from credential file\n",
    "path_cred = os.path.join(os.getcwd(),\n",
    "            \"AWS/AWS_IAM_CREDENTIAL/Maryse_P8_credentials.csv\")\n",
    "with open(path_cred,'r') as f:\n",
    "        msg = f.read()\n",
    "ID = str(msg).split('\\n')[1].split(',')[2]\n",
    "KEY = str(msg).split('\\n')[1].split(',')[3]"
   ]
  },
  {
   "cell_type": "code",
   "execution_count": 6,
   "id": "attempted-kennedy",
   "metadata": {},
   "outputs": [],
   "source": [
    "# # set \"temporary\" environment variables\n",
    "os.environ[\"AWS_ACCESS_KEY_ID\"]=ID\n",
    "os.environ[\"AWS_SECRET_ACCESS_KEY\"]=KEY"
   ]
  },
  {
   "cell_type": "code",
   "execution_count": 7,
   "id": "bacterial-mapping",
   "metadata": {},
   "outputs": [],
   "source": [
    "# # create spark context\n",
    "# conf = (SparkConf().set('spark.executor.extraJavaOptions',\n",
    "#                         '-Dcom.amazonaws.services.s3.enableV4=true')\\\n",
    "#                    .set('spark.driver.extraJavaOptions',\n",
    "#                         '-Dcom.amazonaws.services.s3.enableV4=true'))\n",
    "sc = SparkContext.getOrCreate()\n",
    "# sc.setSystemProperty('com.amazonaws.services.s3.enableV4', 'true')"
   ]
  },
  {
   "cell_type": "code",
   "execution_count": 8,
   "id": "looking-purchase",
   "metadata": {},
   "outputs": [],
   "source": [
    "# setting the key id and the secret access key (from AWS credentials)\n",
    "# configuration of the file system -> s3\n",
    "# hadoop_conf=sc._jsc.hadoopConfiguration()\n",
    "# hadoop_conf.set(\"fs.s3a.awsAccessKeyId\", ID)\n",
    "# hadoop_conf.set(\"fs.s3a.awsSecretAccessKey\", KEY)\n",
    "# hadoop_conf.set('fs.s3a.endpoint', 's3-us-east-1.amazonaws.com')\n",
    "# hadoop_conf.set('com.amazonaws.services.s3a.enableV4', 'true')\n",
    "# hadoop_conf.set(\"fs.s3a.impl\", \"org.apache.hadoop.fs.s3native.NativeS3FileSystem\")\n",
    "# hadoop_conf.set(\"fs.s3a.impl\", \"org.apache.hadoop.fs.s3a.S3AFileSystem\")"
   ]
  },
  {
   "cell_type": "code",
   "execution_count": 9,
   "id": "generous-villa",
   "metadata": {},
   "outputs": [],
   "source": [
    "# create spark session\n",
    "spark = SparkSession.builder.appName('FeatExtr').getOrCreate()"
   ]
  },
  {
   "cell_type": "code",
   "execution_count": 13,
   "id": "surprising-secret",
   "metadata": {},
   "outputs": [],
   "source": [
    "# get data from s3\n",
    "from pyspark.ml.image import ImageSchema\n",
    "PREFIX = 'data/SAMPLE'\n",
    "bucket='ocfruitpictures'\n",
    "data_path = 's3a://{}/{}'.format(bucket, PREFIX)\n",
    "images_df = ImageSchema.readImages(data_path,\n",
    "                                   recursive=True)"
   ]
  },
  {
   "cell_type": "code",
   "execution_count": 14,
   "id": "front-system",
   "metadata": {},
   "outputs": [
    {
     "name": "stdout",
     "output_type": "stream",
     "text": [
      "+--------------------+\n",
      "|               image|\n",
      "+--------------------+\n",
      "|[s3a://ocfruitpic...|\n",
      "|[s3a://ocfruitpic...|\n",
      "|[s3a://ocfruitpic...|\n",
      "|[s3a://ocfruitpic...|\n",
      "|[s3a://ocfruitpic...|\n",
      "|[s3a://ocfruitpic...|\n",
      "|[s3a://ocfruitpic...|\n",
      "|[s3a://ocfruitpic...|\n",
      "|[s3a://ocfruitpic...|\n",
      "|[s3a://ocfruitpic...|\n",
      "|[s3a://ocfruitpic...|\n",
      "|[s3a://ocfruitpic...|\n",
      "|[s3a://ocfruitpic...|\n",
      "|[s3a://ocfruitpic...|\n",
      "|[s3a://ocfruitpic...|\n",
      "|[s3a://ocfruitpic...|\n",
      "|[s3a://ocfruitpic...|\n",
      "|[s3a://ocfruitpic...|\n",
      "|[s3a://ocfruitpic...|\n",
      "|[s3a://ocfruitpic...|\n",
      "+--------------------+\n",
      "only showing top 20 rows\n",
      "\n"
     ]
    }
   ],
   "source": [
    "# to check importation success\n",
    "images_df.show()"
   ]
  },
  {
   "cell_type": "code",
   "execution_count": null,
   "id": "sixth-reducing",
   "metadata": {},
   "outputs": [],
   "source": []
  },
  {
   "cell_type": "code",
   "execution_count": null,
   "id": "banner-bundle",
   "metadata": {},
   "outputs": [],
   "source": []
  },
  {
   "cell_type": "code",
   "execution_count": null,
   "id": "coated-trance",
   "metadata": {},
   "outputs": [],
   "source": []
  },
  {
   "cell_type": "code",
   "execution_count": null,
   "id": "established-virus",
   "metadata": {},
   "outputs": [],
   "source": []
  }
 ],
 "metadata": {
  "kernelspec": {
   "display_name": "p8_venv",
   "language": "python",
   "name": "p8_venv"
  },
  "language_info": {
   "codemirror_mode": {
    "name": "ipython",
    "version": 3
   },
   "file_extension": ".py",
   "mimetype": "text/x-python",
   "name": "python",
   "nbconvert_exporter": "python",
   "pygments_lexer": "ipython3",
   "version": "3.7.10"
  }
 },
 "nbformat": 4,
 "nbformat_minor": 5
}
